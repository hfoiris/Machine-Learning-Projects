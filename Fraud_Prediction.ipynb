{
  "nbformat": 4,
  "nbformat_minor": 0,
  "metadata": {
    "colab": {
      "name": "Fraud_Prediction.ipynb",
      "provenance": [],
      "collapsed_sections": []
    },
    "kernelspec": {
      "name": "python3",
      "display_name": "Python 3"
    }
  },
  "cells": [
    {
      "cell_type": "markdown",
      "metadata": {
        "id": "UJm9-NfIge2Q"
      },
      "source": [
        "I used the [Synthetic Financial Datasets For Fraud Detection](https://www.kaggle.com/ntnu-testimon/paysim1) on Kaggle to predict fruad transactions using different machine learning techniques.\n"
      ]
    },
    {
      "cell_type": "code",
      "metadata": {
        "id": "mWIkAEYiO5nT"
      },
      "source": [
        "# Read file from Google Drive\n",
        "import zipfile\n",
        "local_zip = '/content/drive/My Drive/kaggle_fraud_detection.zip'\n",
        "zip_ref = zipfile.ZipFile(local_zip, 'r')\n",
        "zip_ref.extractall('/content')\n",
        "zip_ref.close()"
      ],
      "execution_count": 3,
      "outputs": []
    },
    {
      "cell_type": "code",
      "metadata": {
        "id": "bYyzgaoqO-LB"
      },
      "source": [
        "import pandas as pd\n",
        "from sklearn.compose import ColumnTransformer\n",
        "import numpy as np \n",
        "import pandas as pd \n",
        "import datetime\n",
        "import matplotlib.pyplot as plt\n",
        "import matplotlib.cm as cm\n",
        "%matplotlib inline\n",
        "plt.style.use('ggplot')\n",
        "\n",
        "import seaborn as sns\n",
        "sns.set_style(\"dark\")\n",
        "\n",
        "from sklearn import preprocessing\n",
        "from scipy.stats import skew, boxcox\n",
        "\n",
        "import warnings\n",
        "warnings.filterwarnings(\"ignore\")"
      ],
      "execution_count": 4,
      "outputs": []
    },
    {
      "cell_type": "code",
      "metadata": {
        "id": "uI3o6VVyPDm3"
      },
      "source": [
        "# Read the data file\n",
        "data = pd.read_csv(\"/content/PS_20174392719_1491204439457_log.csv\")"
      ],
      "execution_count": 5,
      "outputs": []
    },
    {
      "cell_type": "code",
      "metadata": {
        "id": "Q1b2GqCiPIjL",
        "outputId": "8b3ff23d-155e-448f-b21d-bca21e21ea7d",
        "colab": {
          "base_uri": "https://localhost:8080/",
          "height": 379
        }
      },
      "source": [
        "data.head(10)"
      ],
      "execution_count": 6,
      "outputs": [
        {
          "output_type": "execute_result",
          "data": {
            "text/html": [
              "<div>\n",
              "<style scoped>\n",
              "    .dataframe tbody tr th:only-of-type {\n",
              "        vertical-align: middle;\n",
              "    }\n",
              "\n",
              "    .dataframe tbody tr th {\n",
              "        vertical-align: top;\n",
              "    }\n",
              "\n",
              "    .dataframe thead th {\n",
              "        text-align: right;\n",
              "    }\n",
              "</style>\n",
              "<table border=\"1\" class=\"dataframe\">\n",
              "  <thead>\n",
              "    <tr style=\"text-align: right;\">\n",
              "      <th></th>\n",
              "      <th>step</th>\n",
              "      <th>type</th>\n",
              "      <th>amount</th>\n",
              "      <th>nameOrig</th>\n",
              "      <th>oldbalanceOrg</th>\n",
              "      <th>newbalanceOrig</th>\n",
              "      <th>nameDest</th>\n",
              "      <th>oldbalanceDest</th>\n",
              "      <th>newbalanceDest</th>\n",
              "      <th>isFraud</th>\n",
              "      <th>isFlaggedFraud</th>\n",
              "    </tr>\n",
              "  </thead>\n",
              "  <tbody>\n",
              "    <tr>\n",
              "      <th>0</th>\n",
              "      <td>1</td>\n",
              "      <td>PAYMENT</td>\n",
              "      <td>9839.64</td>\n",
              "      <td>C1231006815</td>\n",
              "      <td>170136.00</td>\n",
              "      <td>160296.36</td>\n",
              "      <td>M1979787155</td>\n",
              "      <td>0.0</td>\n",
              "      <td>0.00</td>\n",
              "      <td>0</td>\n",
              "      <td>0</td>\n",
              "    </tr>\n",
              "    <tr>\n",
              "      <th>1</th>\n",
              "      <td>1</td>\n",
              "      <td>PAYMENT</td>\n",
              "      <td>1864.28</td>\n",
              "      <td>C1666544295</td>\n",
              "      <td>21249.00</td>\n",
              "      <td>19384.72</td>\n",
              "      <td>M2044282225</td>\n",
              "      <td>0.0</td>\n",
              "      <td>0.00</td>\n",
              "      <td>0</td>\n",
              "      <td>0</td>\n",
              "    </tr>\n",
              "    <tr>\n",
              "      <th>2</th>\n",
              "      <td>1</td>\n",
              "      <td>TRANSFER</td>\n",
              "      <td>181.00</td>\n",
              "      <td>C1305486145</td>\n",
              "      <td>181.00</td>\n",
              "      <td>0.00</td>\n",
              "      <td>C553264065</td>\n",
              "      <td>0.0</td>\n",
              "      <td>0.00</td>\n",
              "      <td>1</td>\n",
              "      <td>0</td>\n",
              "    </tr>\n",
              "    <tr>\n",
              "      <th>3</th>\n",
              "      <td>1</td>\n",
              "      <td>CASH_OUT</td>\n",
              "      <td>181.00</td>\n",
              "      <td>C840083671</td>\n",
              "      <td>181.00</td>\n",
              "      <td>0.00</td>\n",
              "      <td>C38997010</td>\n",
              "      <td>21182.0</td>\n",
              "      <td>0.00</td>\n",
              "      <td>1</td>\n",
              "      <td>0</td>\n",
              "    </tr>\n",
              "    <tr>\n",
              "      <th>4</th>\n",
              "      <td>1</td>\n",
              "      <td>PAYMENT</td>\n",
              "      <td>11668.14</td>\n",
              "      <td>C2048537720</td>\n",
              "      <td>41554.00</td>\n",
              "      <td>29885.86</td>\n",
              "      <td>M1230701703</td>\n",
              "      <td>0.0</td>\n",
              "      <td>0.00</td>\n",
              "      <td>0</td>\n",
              "      <td>0</td>\n",
              "    </tr>\n",
              "    <tr>\n",
              "      <th>5</th>\n",
              "      <td>1</td>\n",
              "      <td>PAYMENT</td>\n",
              "      <td>7817.71</td>\n",
              "      <td>C90045638</td>\n",
              "      <td>53860.00</td>\n",
              "      <td>46042.29</td>\n",
              "      <td>M573487274</td>\n",
              "      <td>0.0</td>\n",
              "      <td>0.00</td>\n",
              "      <td>0</td>\n",
              "      <td>0</td>\n",
              "    </tr>\n",
              "    <tr>\n",
              "      <th>6</th>\n",
              "      <td>1</td>\n",
              "      <td>PAYMENT</td>\n",
              "      <td>7107.77</td>\n",
              "      <td>C154988899</td>\n",
              "      <td>183195.00</td>\n",
              "      <td>176087.23</td>\n",
              "      <td>M408069119</td>\n",
              "      <td>0.0</td>\n",
              "      <td>0.00</td>\n",
              "      <td>0</td>\n",
              "      <td>0</td>\n",
              "    </tr>\n",
              "    <tr>\n",
              "      <th>7</th>\n",
              "      <td>1</td>\n",
              "      <td>PAYMENT</td>\n",
              "      <td>7861.64</td>\n",
              "      <td>C1912850431</td>\n",
              "      <td>176087.23</td>\n",
              "      <td>168225.59</td>\n",
              "      <td>M633326333</td>\n",
              "      <td>0.0</td>\n",
              "      <td>0.00</td>\n",
              "      <td>0</td>\n",
              "      <td>0</td>\n",
              "    </tr>\n",
              "    <tr>\n",
              "      <th>8</th>\n",
              "      <td>1</td>\n",
              "      <td>PAYMENT</td>\n",
              "      <td>4024.36</td>\n",
              "      <td>C1265012928</td>\n",
              "      <td>2671.00</td>\n",
              "      <td>0.00</td>\n",
              "      <td>M1176932104</td>\n",
              "      <td>0.0</td>\n",
              "      <td>0.00</td>\n",
              "      <td>0</td>\n",
              "      <td>0</td>\n",
              "    </tr>\n",
              "    <tr>\n",
              "      <th>9</th>\n",
              "      <td>1</td>\n",
              "      <td>DEBIT</td>\n",
              "      <td>5337.77</td>\n",
              "      <td>C712410124</td>\n",
              "      <td>41720.00</td>\n",
              "      <td>36382.23</td>\n",
              "      <td>C195600860</td>\n",
              "      <td>41898.0</td>\n",
              "      <td>40348.79</td>\n",
              "      <td>0</td>\n",
              "      <td>0</td>\n",
              "    </tr>\n",
              "  </tbody>\n",
              "</table>\n",
              "</div>"
            ],
            "text/plain": [
              "   step      type    amount  ... newbalanceDest  isFraud  isFlaggedFraud\n",
              "0     1   PAYMENT   9839.64  ...           0.00        0               0\n",
              "1     1   PAYMENT   1864.28  ...           0.00        0               0\n",
              "2     1  TRANSFER    181.00  ...           0.00        1               0\n",
              "3     1  CASH_OUT    181.00  ...           0.00        1               0\n",
              "4     1   PAYMENT  11668.14  ...           0.00        0               0\n",
              "5     1   PAYMENT   7817.71  ...           0.00        0               0\n",
              "6     1   PAYMENT   7107.77  ...           0.00        0               0\n",
              "7     1   PAYMENT   7861.64  ...           0.00        0               0\n",
              "8     1   PAYMENT   4024.36  ...           0.00        0               0\n",
              "9     1     DEBIT   5337.77  ...       40348.79        0               0\n",
              "\n",
              "[10 rows x 11 columns]"
            ]
          },
          "metadata": {
            "tags": []
          },
          "execution_count": 6
        }
      ]
    },
    {
      "cell_type": "code",
      "metadata": {
        "id": "kc34pMUzPJfL",
        "outputId": "44027a1f-8465-4e09-8127-b62bb694f056",
        "colab": {
          "base_uri": "https://localhost:8080/",
          "height": 34
        }
      },
      "source": [
        "# Check for NA values\n",
        "data.isnull().values.any()"
      ],
      "execution_count": 7,
      "outputs": [
        {
          "output_type": "execute_result",
          "data": {
            "text/plain": [
              "False"
            ]
          },
          "metadata": {
            "tags": []
          },
          "execution_count": 7
        }
      ]
    },
    {
      "cell_type": "markdown",
      "metadata": {
        "id": "gFW8rxWwgtj2"
      },
      "source": [
        "# Exploratory Data Analysis "
      ]
    },
    {
      "cell_type": "code",
      "metadata": {
        "id": "2XEYf8vaPfvN",
        "outputId": "6879f19b-d169-4358-88c3-a1807f5e51d9",
        "colab": {
          "base_uri": "https://localhost:8080/",
          "height": 119
        }
      },
      "source": [
        "# Different type of transactions and their counts\n",
        "data['type'].value_counts()"
      ],
      "execution_count": 8,
      "outputs": [
        {
          "output_type": "execute_result",
          "data": {
            "text/plain": [
              "CASH_OUT    2237500\n",
              "PAYMENT     2151495\n",
              "CASH_IN     1399284\n",
              "TRANSFER     532909\n",
              "DEBIT         41432\n",
              "Name: type, dtype: int64"
            ]
          },
          "metadata": {
            "tags": []
          },
          "execution_count": 8
        }
      ]
    },
    {
      "cell_type": "code",
      "metadata": {
        "id": "7TCiGvA1TPQU",
        "outputId": "9d7312e7-0caf-43a1-e24e-f6306a909c9b",
        "colab": {
          "base_uri": "https://localhost:8080/",
          "height": 560
        }
      },
      "source": [
        "plt.figure(figsize=(15,8))\n",
        "plt.xlabel(\"Type\")\n",
        "plt.ylabel(\"Count\")\n",
        "data.type.value_counts().plot(kind='bar', title= \"Transaction Type\")\n",
        "plt.show()"
      ],
      "execution_count": 9,
      "outputs": [
        {
          "output_type": "display_data",
          "data": {
            "image/png": "[encoded data removed]",
            "text/plain": [
              "<Figure size 1080x576 with 1 Axes>"
            ]
          },
          "metadata": {
            "tags": []
          }
        }
      ]
    },
    {
      "cell_type": "code",
      "metadata": {
        "id": "YgV39sgQjYif",
        "outputId": "4388b3ef-7a5c-4b3a-c30e-bfbb977a9539",
        "colab": {
          "base_uri": "https://localhost:8080/",
          "height": 581
        }
      },
      "source": [
        "# What are the transaction type when fraud occurs?\n",
        "plt.figure(figsize=(15,8))\n",
        "ax = data.groupby(['type', 'isFraud']).size().plot(kind='bar')\n",
        "ax.set_title(\"# of transaction which are the actual fraud per transaction type\")\n",
        "ax.set_xlabel(\"(Type, isFraud)\")\n",
        "ax.set_ylabel(\"Count of transaction\")\n",
        "for p in ax.patches:\n",
        "    ax.annotate(str(format(int(p.get_height()), ',d')), (p.get_x(), p.get_height()*1.01))"
      ],
      "execution_count": 10,
      "outputs": [
        {
          "output_type": "display_data",
          "data": {
            "image/png": "[encoded data removed]",
            "text/plain": [
              "<Figure size 1080x576 with 1 Axes>"
            ]
          },
          "metadata": {
            "tags": []
          }
        }
      ]
    },
    {
      "cell_type": "markdown",
      "metadata": {
        "id": "mOS3vKieh_S6"
      },
      "source": [
        "The frauds in the dataset are either \"cash out\" or \"debit\". I will keep only these 2 types for modeling."
      ]
    },
    {
      "cell_type": "code",
      "metadata": {
        "id": "ttbfLdHAjlRW",
        "outputId": "07b34356-f390-4be0-826e-08895d0756b8",
        "colab": {
          "base_uri": "https://localhost:8080/",
          "height": 581
        }
      },
      "source": [
        "# What type of transactions were flagged as fraud?\n",
        "plt.figure(figsize=(15,8))\n",
        "ax = data.groupby(['type', 'isFlaggedFraud']).size().plot(kind='bar')\n",
        "ax.set_title(\"# of transaction which is flagged as fraud per transaction type\")\n",
        "ax.set_xlabel(\"(Type, isFlaggedFraud)\")\n",
        "ax.set_ylabel(\"Count of transaction\")\n",
        "for p in ax.patches:\n",
        "    ax.annotate(str(format(int(p.get_height()), ',d')), (p.get_x(), p.get_height()*1.01))"
      ],
      "execution_count": 11,
      "outputs": [
        {
          "output_type": "display_data",
          "data": {
            "image/png": "[encoded data removed]",
            "text/plain": [
              "<Figure size 1080x576 with 1 Axes>"
            ]
          },
          "metadata": {
            "tags": []
          }
        }
      ]
    },
    {
      "cell_type": "markdown",
      "metadata": {
        "id": "efEbfR8miKc4"
      },
      "source": [
        "The system only flagged fraud transactions in \"Transer\"."
      ]
    },
    {
      "cell_type": "code",
      "metadata": {
        "id": "5GUJkTS9kHON",
        "outputId": "03353b6a-5ad7-49f3-98b1-bf2c889e0f7b",
        "colab": {
          "base_uri": "https://localhost:8080/",
          "height": 119
        }
      },
      "source": [
        "# Keep only 'TRANSFER' and 'CASH_OUT', drop columns I don't need\n",
        "# Convert categorical variables to numeric variable\n",
        "from statsmodels.tools import categorical\n",
        "tmp = data.loc[(data['type'].isin(['TRANSFER', 'CASH_OUT'])),:]\n",
        "tmp.drop(['step', 'nameOrig', 'nameDest', 'isFlaggedFraud'], axis = 1, inplace = True)\n",
        "tmp = tmp.reset_index(drop = True)\n",
        "a = np.array(tmp['type'])\n",
        "b = categorical(a, drop = True)\n",
        "tmp['type_num'] = b.argmax(1)\n",
        "\n",
        "print(tmp.head(3))"
      ],
      "execution_count": 13,
      "outputs": [
        {
          "output_type": "stream",
          "text": [
            "       type     amount  oldbalanceOrg  ...  newbalanceDest  isFraud  type_num\n",
            "0  TRANSFER     181.00          181.0  ...            0.00        1         1\n",
            "1  CASH_OUT     181.00          181.0  ...            0.00        1         0\n",
            "2  CASH_OUT  229133.94        15325.0  ...        51513.44        0         0\n",
            "\n",
            "[3 rows x 8 columns]\n"
          ],
          "name": "stdout"
        }
      ]
    },
    {
      "cell_type": "code",
      "metadata": {
        "id": "aPDflvzukOT8",
        "outputId": "8d461371-89ea-484a-96de-fe8eb854862b",
        "colab": {
          "base_uri": "https://localhost:8080/",
          "height": 359
        }
      },
      "source": [
        "sns.heatmap(tmp.corr())"
      ],
      "execution_count": 14,
      "outputs": [
        {
          "output_type": "execute_result",
          "data": {
            "text/plain": [
              "<matplotlib.axes._subplots.AxesSubplot at 0x7fd2c6da74a8>"
            ]
          },
          "metadata": {
            "tags": []
          },
          "execution_count": 14
        },
        {
          "output_type": "display_data",
          "data": {
            "image/png": "[encoded data removed]",
            "text/plain": [
              "<Figure size 432x288 with 2 Axes>"
            ]
          },
          "metadata": {
            "tags": []
          }
        }
      ]
    },
    {
      "cell_type": "markdown",
      "metadata": {
        "id": "FvzRKNePjzFS"
      },
      "source": [
        "\n",
        "\n",
        "1.   oldbalanceOrg is highly correalated to newbalanceOrig\n",
        "2.   oldbalanceDest is highly correlated to newbalanceDest\n",
        "3.   newbalanceDest is correlated to amount\n",
        "\n"
      ]
    },
    {
      "cell_type": "code",
      "metadata": {
        "id": "nVgT2NYGk5qo"
      },
      "source": [
        "# Box Cox Transformation to transform non-normal dependent variables into a normal shape\n",
        "tmp['amount_boxcox'] = preprocessing.scale(boxcox(tmp['amount']+1)[0])\n",
        "tmp['oldbalanceOrg_boxcox'] = preprocessing.scale(boxcox(tmp['oldbalanceOrg']+1)[0])\n",
        "tmp['newbalanceOrg_boxcox'] = preprocessing.scale(boxcox(tmp['newbalanceOrig']+1)[0])\n",
        "tmp['oldbalanceDest_boxcox'] = preprocessing.scale(boxcox(tmp['oldbalanceDest']+1)[0])\n",
        "tmp['newbalanceDest_boxcox'] = preprocessing.scale(boxcox(tmp['newbalanceDest']+1)[0])"
      ],
      "execution_count": 15,
      "outputs": []
    },
    {
      "cell_type": "code",
      "metadata": {
        "id": "ctij84IKlEdy",
        "outputId": "eb4d4104-437f-42ce-9017-fa4bbd1736c7",
        "colab": {
          "base_uri": "https://localhost:8080/",
          "height": 34
        }
      },
      "source": [
        "print(\"The fraud transaction of the filtered dataset: {0:.4f}%\".format((len(tmp[tmp.isFraud == 1])/len(tmp)) * 100))"
      ],
      "execution_count": 16,
      "outputs": [
        {
          "output_type": "stream",
          "text": [
            "The fraud transaction of the filtered dataset: 0.2965%\n"
          ],
          "name": "stdout"
        }
      ]
    },
    {
      "cell_type": "markdown",
      "metadata": {
        "id": "etxXvvM-eZcU"
      },
      "source": [
        "# Deal with imbalance data"
      ]
    },
    {
      "cell_type": "markdown",
      "metadata": {
        "id": "v-NzzpIqVON1"
      },
      "source": [
        "There are less than 0.3% of fraud data in this dataset, which is extremely imbalance.\n",
        "\n",
        "Most machine learning techniques will ignore, and in turn have poor performance on, the minority class, although typically it is performance on the minority class that is most important.\n",
        "\n",
        "I use SMOTE (Synthetic Minority Oversampling Technique) to oversampling the minority class, then undersampling the majority class. "
      ]
    },
    {
      "cell_type": "code",
      "metadata": {
        "id": "rRjzNZjk_3_9",
        "outputId": "e7be68fc-e62f-4db2-f223-017d283292d0",
        "colab": {
          "base_uri": "https://localhost:8080/",
          "height": 122
        }
      },
      "source": [
        "!pip install imbalanced-learn"
      ],
      "execution_count": 17,
      "outputs": [
        {
          "output_type": "stream",
          "text": [
            "Requirement already satisfied: imbalanced-learn in /usr/local/lib/python3.6/dist-packages (0.4.3)\n",
            "Requirement already satisfied: numpy>=1.8.2 in /usr/local/lib/python3.6/dist-packages (from imbalanced-learn) (1.18.5)\n",
            "Requirement already satisfied: scipy>=0.13.3 in /usr/local/lib/python3.6/dist-packages (from imbalanced-learn) (1.4.1)\n",
            "Requirement already satisfied: scikit-learn>=0.20 in /usr/local/lib/python3.6/dist-packages (from imbalanced-learn) (0.22.2.post1)\n",
            "Requirement already satisfied: joblib>=0.11 in /usr/local/lib/python3.6/dist-packages (from scikit-learn>=0.20->imbalanced-learn) (0.16.0)\n"
          ],
          "name": "stdout"
        }
      ]
    },
    {
      "cell_type": "code",
      "metadata": {
        "id": "KYvFQRi3-gps"
      },
      "source": [
        "from collections import Counter\n",
        "import imblearn\n",
        "from imblearn.over_sampling import SMOTE\n",
        "from imblearn.under_sampling import RandomUnderSampler\n",
        "from imblearn.pipeline import Pipeline\n",
        "from numpy import where\n",
        "from sklearn.model_selection import train_test_split\n",
        "from sklearn.model_selection import cross_val_score\n",
        "from sklearn.model_selection import RepeatedStratifiedKFold\n",
        "from numpy import mean"
      ],
      "execution_count": 18,
      "outputs": []
    },
    {
      "cell_type": "code",
      "metadata": {
        "id": "LGUn7iGolShu",
        "outputId": "a75fc930-7c91-4696-8074-b81dc8ec1eac",
        "colab": {
          "base_uri": "https://localhost:8080/",
          "height": 68
        }
      },
      "source": [
        "tmp.drop(['oldbalanceOrg', 'newbalanceOrig', 'oldbalanceDest', 'newbalanceDest', 'amount', 'type'], axis=1, inplace=True)\n",
        "\n",
        "X = tmp.iloc[:, tmp.columns != 'isFraud']\n",
        "y = tmp.iloc[:, tmp.columns == 'isFraud']\n",
        "\n",
        "# Whole dataset\n",
        "X_train, X_test, y_train, y_test = train_test_split(X, y, test_size = 0.3, random_state = 0)\n",
        "\n",
        "print(\"Number transactions train dataset: \", format(len(X_train),',d'))\n",
        "print(\"Number transactions test dataset: \", format(len(X_test), ',d'))\n",
        "print(\"Total number of transactions: \", format(len(X_train)+len(X_test), ',d'))"
      ],
      "execution_count": 19,
      "outputs": [
        {
          "output_type": "stream",
          "text": [
            "Number transactions train dataset:  1,939,286\n",
            "Number transactions test dataset:  831,123\n",
            "Total number of transactions:  2,770,409\n"
          ],
          "name": "stdout"
        }
      ]
    },
    {
      "cell_type": "code",
      "metadata": {
        "id": "Wuj_7wiao21F",
        "outputId": "9643bce7-899e-410d-d64b-208a9006d520",
        "colab": {
          "base_uri": "https://localhost:8080/",
          "height": 34
        }
      },
      "source": [
        "# define pipeline\n",
        "over = SMOTE(sampling_strategy = 0.1)\n",
        "under = RandomUnderSampler(sampling_strategy = 0.5)\n",
        "steps = [('o', over), ('u', under)]\n",
        "pipeline = Pipeline(steps=steps)\n",
        "# transform the dataset\n",
        "X, y = pipeline.fit_resample(X, y)\n",
        "# summarize the new class distribution\n",
        "counter = Counter(y)\n",
        "print(counter)"
      ],
      "execution_count": 20,
      "outputs": [
        {
          "output_type": "stream",
          "text": [
            "Counter({0: 552438, 1: 276219})\n"
          ],
          "name": "stdout"
        }
      ]
    },
    {
      "cell_type": "code",
      "metadata": {
        "id": "KCIeZIESo23o",
        "outputId": "4c67813d-547c-42cf-9c2d-0db51bd331fc",
        "colab": {
          "base_uri": "https://localhost:8080/",
          "height": 68
        }
      },
      "source": [
        "# Dataset after processing\n",
        "X_train, X_test, y_train, y_test = train_test_split(X, y, test_size = 0.3, random_state = 0)\n",
        "\n",
        "print(\"Number transactions train dataset: \", format(len(X_train),',d'))\n",
        "print(\"Number transactions test dataset: \", format(len(X_test), ',d'))\n",
        "print(\"Total number of transactions: \", format(len(X_train)+len(X_test), ',d'))"
      ],
      "execution_count": 21,
      "outputs": [
        {
          "output_type": "stream",
          "text": [
            "Number transactions train dataset:  580,059\n",
            "Number transactions test dataset:  248,598\n",
            "Total number of transactions:  828,657\n"
          ],
          "name": "stdout"
        }
      ]
    },
    {
      "cell_type": "markdown",
      "metadata": {
        "id": "6ERHu_TuWbUo"
      },
      "source": [
        "# Modeling"
      ]
    },
    {
      "cell_type": "markdown",
      "metadata": {
        "id": "Ng2Mjmk79BDl"
      },
      "source": [
        "I use the following methods to predict fraud transactions.\n",
        "\n",
        "1. Random Forest\n",
        "2. kNN\n",
        "3. Logistics Regression\n",
        "4. SVMs\n",
        "\n",
        "According to [this article](https://perfectial.com/blog/fraud-detection-machine-learning/), random forest has the best performance dealing with financial fraudulence, kNN, logistic regression and SVM are also worthy to try. <br>\n",
        "\n",
        "Evaluation metric: Recall is more important in this case since it's less harmful to predict fraudulence transaction and turns out to be non-fraudulence (False positive) than False Negative (predicted regular, turns out to be fraud)."
      ]
    },
    {
      "cell_type": "markdown",
      "metadata": {
        "id": "T9VCPmaFicUW"
      },
      "source": [
        "## Random Forest"
      ]
    },
    {
      "cell_type": "code",
      "metadata": {
        "id": "_HNNMGZLUjyX",
        "outputId": "bc150adf-e53b-4827-a3c4-e3899e4c6816",
        "colab": {
          "base_uri": "https://localhost:8080/",
          "height": 935
        }
      },
      "source": [
        "from sklearn.model_selection import GridSearchCV\n",
        "\n",
        "rf = RandomForestClassifier(random_state=42)\n",
        "\n",
        "param_grid = { \n",
        "    'n_estimators': [5, 64, 128],\n",
        "    #'n_estimators': [64, 128],\n",
        "    #'max_features': ['auto', 'sqrt', 'log2'],\n",
        "    'max_features': ['auto'],\n",
        "    'criterion' :['gini']\n",
        "}\n",
        "CV_rfc = GridSearchCV(estimator = rf, param_grid = param_grid, cv = 5, verbose=2)\n",
        "CV_rfc.fit(X_train, y_train)"
      ],
      "execution_count": 28,
      "outputs": [
        {
          "output_type": "stream",
          "text": [
            "Fitting 5 folds for each of 3 candidates, totalling 15 fits\n",
            "[CV] criterion=gini, max_features=auto, n_estimators=5 ...............\n"
          ],
          "name": "stdout"
        },
        {
          "output_type": "stream",
          "text": [
            "[Parallel(n_jobs=1)]: Using backend SequentialBackend with 1 concurrent workers.\n"
          ],
          "name": "stderr"
        },
        {
          "output_type": "stream",
          "text": [
            "[CV]  criterion=gini, max_features=auto, n_estimators=5, total=   4.5s\n",
            "[CV] criterion=gini, max_features=auto, n_estimators=5 ...............\n"
          ],
          "name": "stdout"
        },
        {
          "output_type": "stream",
          "text": [
            "[Parallel(n_jobs=1)]: Done   1 out of   1 | elapsed:    4.5s remaining:    0.0s\n"
          ],
          "name": "stderr"
        },
        {
          "output_type": "stream",
          "text": [
            "[CV]  criterion=gini, max_features=auto, n_estimators=5, total=   4.7s\n",
            "[CV] criterion=gini, max_features=auto, n_estimators=5 ...............\n",
            "[CV]  criterion=gini, max_features=auto, n_estimators=5, total=   4.7s\n",
            "[CV] criterion=gini, max_features=auto, n_estimators=5 ...............\n",
            "[CV]  criterion=gini, max_features=auto, n_estimators=5, total=   4.8s\n",
            "[CV] criterion=gini, max_features=auto, n_estimators=5 ...............\n",
            "[CV]  criterion=gini, max_features=auto, n_estimators=5, total=   4.6s\n",
            "[CV] criterion=gini, max_features=auto, n_estimators=64 ..............\n",
            "[CV]  criterion=gini, max_features=auto, n_estimators=64, total=  59.3s\n",
            "[CV] criterion=gini, max_features=auto, n_estimators=64 ..............\n",
            "[CV]  criterion=gini, max_features=auto, n_estimators=64, total= 1.1min\n",
            "[CV] criterion=gini, max_features=auto, n_estimators=64 ..............\n",
            "[CV]  criterion=gini, max_features=auto, n_estimators=64, total= 1.1min\n",
            "[CV] criterion=gini, max_features=auto, n_estimators=64 ..............\n",
            "[CV]  criterion=gini, max_features=auto, n_estimators=64, total= 1.1min\n",
            "[CV] criterion=gini, max_features=auto, n_estimators=64 ..............\n",
            "[CV]  criterion=gini, max_features=auto, n_estimators=64, total= 1.0min\n",
            "[CV] criterion=gini, max_features=auto, n_estimators=128 .............\n",
            "[CV]  criterion=gini, max_features=auto, n_estimators=128, total= 2.2min\n",
            "[CV] criterion=gini, max_features=auto, n_estimators=128 .............\n",
            "[CV]  criterion=gini, max_features=auto, n_estimators=128, total= 2.2min\n",
            "[CV] criterion=gini, max_features=auto, n_estimators=128 .............\n",
            "[CV]  criterion=gini, max_features=auto, n_estimators=128, total= 2.2min\n",
            "[CV] criterion=gini, max_features=auto, n_estimators=128 .............\n",
            "[CV]  criterion=gini, max_features=auto, n_estimators=128, total= 2.3min\n",
            "[CV] criterion=gini, max_features=auto, n_estimators=128 .............\n",
            "[CV]  criterion=gini, max_features=auto, n_estimators=128, total= 2.2min\n"
          ],
          "name": "stdout"
        },
        {
          "output_type": "stream",
          "text": [
            "[Parallel(n_jobs=1)]: Done  15 out of  15 | elapsed: 16.8min finished\n"
          ],
          "name": "stderr"
        },
        {
          "output_type": "execute_result",
          "data": {
            "text/plain": [
              "GridSearchCV(cv=5, error_score=nan,\n",
              "             estimator=RandomForestClassifier(bootstrap=True, ccp_alpha=0.0,\n",
              "                                              class_weight=None,\n",
              "                                              criterion='gini', max_depth=None,\n",
              "                                              max_features='auto',\n",
              "                                              max_leaf_nodes=None,\n",
              "                                              max_samples=None,\n",
              "                                              min_impurity_decrease=0.0,\n",
              "                                              min_impurity_split=None,\n",
              "                                              min_samples_leaf=1,\n",
              "                                              min_samples_split=2,\n",
              "                                              min_weight_fraction_leaf=0.0,\n",
              "                                              n_estimators=100, n_jobs=None,\n",
              "                                              oob_score=False, random_state=42,\n",
              "                                              verbose=0, warm_start=False),\n",
              "             iid='deprecated', n_jobs=None,\n",
              "             param_grid={'criterion': ['gini'], 'max_features': ['auto'],\n",
              "                         'n_estimators': [5, 64, 128]},\n",
              "             pre_dispatch='2*n_jobs', refit=True, return_train_score=False,\n",
              "             scoring=None, verbose=2)"
            ]
          },
          "metadata": {
            "tags": []
          },
          "execution_count": 28
        }
      ]
    },
    {
      "cell_type": "code",
      "metadata": {
        "id": "zA2r1UGWACPM",
        "outputId": "91429e39-207d-4d0b-b5db-7827d5957d0f",
        "colab": {
          "base_uri": "https://localhost:8080/",
          "height": 34
        }
      },
      "source": [
        "CV_rfc.best_params_"
      ],
      "execution_count": 29,
      "outputs": [
        {
          "output_type": "execute_result",
          "data": {
            "text/plain": [
              "{'criterion': 'gini', 'max_features': 'auto', 'n_estimators': 128}"
            ]
          },
          "metadata": {
            "tags": []
          },
          "execution_count": 29
        }
      ]
    },
    {
      "cell_type": "code",
      "metadata": {
        "id": "mIhfJ6IosPz-"
      },
      "source": [
        "rfc1 = RandomForestClassifier(random_state = 42, max_features='auto', n_estimators= 128, criterion='gini')"
      ],
      "execution_count": 31,
      "outputs": []
    },
    {
      "cell_type": "code",
      "metadata": {
        "id": "uxhgi--yGjxC",
        "outputId": "de6398b8-96c0-4c2a-b741-d9b49c8567fd",
        "colab": {
          "base_uri": "https://localhost:8080/",
          "height": 153
        }
      },
      "source": [
        "rfc1.fit(X_train, y_train)"
      ],
      "execution_count": 32,
      "outputs": [
        {
          "output_type": "execute_result",
          "data": {
            "text/plain": [
              "RandomForestClassifier(bootstrap=True, ccp_alpha=0.0, class_weight=None,\n",
              "                       criterion='gini', max_depth=None, max_features='auto',\n",
              "                       max_leaf_nodes=None, max_samples=None,\n",
              "                       min_impurity_decrease=0.0, min_impurity_split=None,\n",
              "                       min_samples_leaf=1, min_samples_split=2,\n",
              "                       min_weight_fraction_leaf=0.0, n_estimators=128,\n",
              "                       n_jobs=None, oob_score=False, random_state=42, verbose=0,\n",
              "                       warm_start=False)"
            ]
          },
          "metadata": {
            "tags": []
          },
          "execution_count": 32
        }
      ]
    },
    {
      "cell_type": "code",
      "metadata": {
        "id": "7ncxRouAGj_e",
        "outputId": "f45ea111-5cb0-41e6-ef63-423e2ec62307",
        "colab": {
          "base_uri": "https://localhost:8080/",
          "height": 102
        }
      },
      "source": [
        "from sklearn.metrics import accuracy_score\n",
        "from sklearn.metrics import confusion_matrix\n",
        "\n",
        "pred = rfc1.predict(X_test)\n",
        "cm = confusion_matrix(y_test, pred)\n",
        "print(cm)\n",
        "print(\"Accuracy for Random Forest: \", accuracy_score(y_test, pred))\n",
        "precision = cm[0,0] / (cm[0,0] + cm[0,1])\n",
        "print(\"Precision for Random Forest: \", precision)\n",
        "recall = cm[0,0] / (cm[0,0] + cm[1,0])\n",
        "print(\"Recall for Random Forest: \", recall)"
      ],
      "execution_count": 33,
      "outputs": [
        {
          "output_type": "stream",
          "text": [
            "[[165509    467]\n",
            " [   141  82481]]\n",
            "Accuracy for Random Forest:  0.997554284427067\n",
            "Precision for Random Forest:  0.997186340193763\n",
            "Recall for Random Forest:  0.9991488077271355\n"
          ],
          "name": "stdout"
        }
      ]
    },
    {
      "cell_type": "markdown",
      "metadata": {
        "id": "61j0GbAtY3Sv"
      },
      "source": [
        "## K-Nearest Neighbors"
      ]
    },
    {
      "cell_type": "code",
      "metadata": {
        "id": "0kQmLOoEZCaE",
        "outputId": "42ceebd8-d75c-4913-8a38-9d0896959f0e",
        "colab": {
          "base_uri": "https://localhost:8080/",
          "height": 102
        }
      },
      "source": [
        "from sklearn.neighbors import KNeighborsClassifier\n",
        "\n",
        "n_neighbors = list(range(1,30))\n",
        "\n",
        "grid_para = {\n",
        "    'n_neighbors': n_neighbors,\n",
        "    'weights': ['uniform', 'distance'],\n",
        "    'metric' :['euclidean', 'manhattan']\n",
        "}\n",
        "\n",
        "gs = GridSearchCV(\n",
        "    KNeighborsClassifier(),\n",
        "    grid_para,\n",
        "    verbose = 2,\n",
        "    cv = 3,\n",
        "    n_jobs = -1\n",
        ")\n",
        "\n",
        "gs_results = gs.fit(X_train, y_train)"
      ],
      "execution_count": 37,
      "outputs": [
        {
          "output_type": "stream",
          "text": [
            "Fitting 3 folds for each of 116 candidates, totalling 348 fits\n"
          ],
          "name": "stdout"
        },
        {
          "output_type": "stream",
          "text": [
            "[Parallel(n_jobs=-1)]: Using backend LokyBackend with 2 concurrent workers.\n",
            "[Parallel(n_jobs=-1)]: Done  37 tasks      | elapsed: 12.7min\n",
            "[Parallel(n_jobs=-1)]: Done 158 tasks      | elapsed: 54.7min\n",
            "[Parallel(n_jobs=-1)]: Done 348 out of 348 | elapsed: 130.6min finished\n"
          ],
          "name": "stderr"
        }
      ]
    },
    {
      "cell_type": "code",
      "metadata": {
        "id": "cWzmMp2PZ5lF",
        "outputId": "b352b32b-1e6e-4ce7-dc29-3385e03dc9a7",
        "colab": {
          "base_uri": "https://localhost:8080/",
          "height": 34
        }
      },
      "source": [
        "gs_results.best_params_"
      ],
      "execution_count": 38,
      "outputs": [
        {
          "output_type": "execute_result",
          "data": {
            "text/plain": [
              "{'metric': 'euclidean', 'n_neighbors': 1, 'weights': 'uniform'}"
            ]
          },
          "metadata": {
            "tags": []
          },
          "execution_count": 38
        }
      ]
    },
    {
      "cell_type": "code",
      "metadata": {
        "id": "91ceq3NR8mdN",
        "outputId": "6132b3f1-585c-449a-f319-c56a4b33bd81",
        "colab": {
          "base_uri": "https://localhost:8080/",
          "height": 68
        }
      },
      "source": [
        "KNC = KNeighborsClassifier(metric = 'euclidean', n_neighbors = 1, weights = 'uniform')\n",
        "KNC.fit(X_train, y_train)"
      ],
      "execution_count": 39,
      "outputs": [
        {
          "output_type": "execute_result",
          "data": {
            "text/plain": [
              "KNeighborsClassifier(algorithm='auto', leaf_size=30, metric='euclidean',\n",
              "                     metric_params=None, n_jobs=None, n_neighbors=1, p=2,\n",
              "                     weights='uniform')"
            ]
          },
          "metadata": {
            "tags": []
          },
          "execution_count": 39
        }
      ]
    },
    {
      "cell_type": "code",
      "metadata": {
        "id": "eULHCdDnY71i"
      },
      "source": [
        "pred = KNC.predict(X_test)"
      ],
      "execution_count": 40,
      "outputs": []
    },
    {
      "cell_type": "code",
      "metadata": {
        "id": "fdfMdNPwyVx5",
        "outputId": "54a25abe-5dfe-4c5c-f838-a3d7ce9b3bee",
        "colab": {
          "base_uri": "https://localhost:8080/",
          "height": 102
        }
      },
      "source": [
        "pred = KNC.predict(X_test)\n",
        "cm = confusion_matrix(y_test, pred)\n",
        "print(cm)\n",
        "print(\"Accuracy for kNN: \", accuracy_score(y_test, pred))\n",
        "precision = cm[0,0] / (cm[0,0] + cm[0,1])\n",
        "print(\"Precision for kNN: \", precision)\n",
        "recall = cm[0,0] / (cm[0,0] + cm[1,0])\n",
        "print(\"Recall for kNN: \", recall)"
      ],
      "execution_count": 41,
      "outputs": [
        {
          "output_type": "stream",
          "text": [
            "[[165025    951]\n",
            " [   240  82382]]\n",
            "Accuracy for kNN:  0.9952091328168369\n",
            "Precision for kNN:  0.9942702559406179\n",
            "Recall for kNN:  0.9985477868877257\n"
          ],
          "name": "stdout"
        }
      ]
    },
    {
      "cell_type": "code",
      "metadata": {
        "id": "5m8Uei10Y-UI",
        "outputId": "0b30f07c-5107-4757-9feb-7ff208e32a14",
        "colab": {
          "base_uri": "https://localhost:8080/",
          "height": 170
        }
      },
      "source": [
        "from sklearn.metrics import classification_report\n",
        "print(classification_report(y_test, pred))"
      ],
      "execution_count": 42,
      "outputs": [
        {
          "output_type": "stream",
          "text": [
            "              precision    recall  f1-score   support\n",
            "\n",
            "           0       1.00      0.99      1.00    165976\n",
            "           1       0.99      1.00      0.99     82622\n",
            "\n",
            "    accuracy                           1.00    248598\n",
            "   macro avg       0.99      1.00      0.99    248598\n",
            "weighted avg       1.00      1.00      1.00    248598\n",
            "\n"
          ],
          "name": "stdout"
        }
      ]
    },
    {
      "cell_type": "markdown",
      "metadata": {
        "id": "pzmikMiOdrBz"
      },
      "source": [
        "## Logistics Regression"
      ]
    },
    {
      "cell_type": "code",
      "metadata": {
        "id": "0AVCQxitd9t7",
        "outputId": "b9d8c461-3f57-4de3-ccb4-0fc9498334a5",
        "colab": {
          "base_uri": "https://localhost:8080/",
          "height": 425
        }
      },
      "source": [
        "import statsmodels.api as sm\n",
        "logit_model=sm.Logit(y,X)\n",
        "result=logit_model.fit()\n",
        "print(result.summary2())"
      ],
      "execution_count": 43,
      "outputs": [
        {
          "output_type": "stream",
          "text": [
            "Optimization terminated successfully.\n",
            "         Current function value: 0.510761\n",
            "         Iterations 7\n",
            "                          Results: Logit\n",
            "==================================================================\n",
            "Model:              Logit            Pseudo R-squared: 0.198      \n",
            "Dependent Variable: y                AIC:              846503.2773\n",
            "Date:               2020-10-03 03:23 BIC:              846573.0427\n",
            "No. Observations:   828657           Log-Likelihood:   -4.2325e+05\n",
            "Df Model:           5                LL-Null:          -5.2745e+05\n",
            "Df Residuals:       828651           LLR p-value:      0.0000     \n",
            "Converged:          1.0000           Scale:            1.0000     \n",
            "No. Iterations:     7.0000                                        \n",
            "--------------------------------------------------------------------\n",
            "          Coef.    Std.Err.       z       P>|z|     [0.025    0.975]\n",
            "--------------------------------------------------------------------\n",
            "x1       -2.2246     0.0088   -253.7173   0.0000   -2.2418   -2.2075\n",
            "x2        0.6987     0.0033    209.7557   0.0000    0.6922    0.7053\n",
            "x3        0.6599     0.0031    216.0327   0.0000    0.6539    0.6659\n",
            "x4       -0.4077     0.0032   -126.4848   0.0000   -0.4141   -0.4014\n",
            "x5        0.7453     0.0047    158.7250   0.0000    0.7361    0.7545\n",
            "x6       -1.1942     0.0045   -267.9909   0.0000   -1.2030   -1.1855\n",
            "==================================================================\n",
            "\n"
          ],
          "name": "stdout"
        }
      ]
    },
    {
      "cell_type": "markdown",
      "metadata": {
        "id": "XbfiEEBheKta"
      },
      "source": [
        "P-values are all smaller than 0.05, therefore, we keep all of them."
      ]
    },
    {
      "cell_type": "code",
      "metadata": {
        "id": "Kn94AjHleO1a",
        "outputId": "976caf83-f953-4c7e-eb39-9955abeb0206",
        "colab": {
          "base_uri": "https://localhost:8080/",
          "height": 102
        }
      },
      "source": [
        "from sklearn.linear_model import LogisticRegression\n",
        "logreg = LogisticRegression()\n",
        "logreg.fit(X_train, y_train)"
      ],
      "execution_count": 45,
      "outputs": [
        {
          "output_type": "execute_result",
          "data": {
            "text/plain": [
              "LogisticRegression(C=1.0, class_weight=None, dual=False, fit_intercept=True,\n",
              "                   intercept_scaling=1, l1_ratio=None, max_iter=100,\n",
              "                   multi_class='auto', n_jobs=None, penalty='l2',\n",
              "                   random_state=None, solver='lbfgs', tol=0.0001, verbose=0,\n",
              "                   warm_start=False)"
            ]
          },
          "metadata": {
            "tags": []
          },
          "execution_count": 45
        }
      ]
    },
    {
      "cell_type": "code",
      "metadata": {
        "id": "34CWaADxe5rD",
        "outputId": "36f0e8d5-6680-4e6b-f3d1-5cac51257695",
        "colab": {
          "base_uri": "https://localhost:8080/",
          "height": 102
        }
      },
      "source": [
        "pred = logreg.predict(X_test)\n",
        "cm = confusion_matrix(y_test, pred)\n",
        "print(cm)\n",
        "print(\"Accuracy for Logistics Regression: \", accuracy_score(y_test, pred))\n",
        "precision = cm[0,0] / (cm[0,0] + cm[0,1])\n",
        "print(\"Precision for Logistics Regression: \", precision)\n",
        "recall = cm[0,0] / (cm[0,0] + cm[1,0])\n",
        "print(\"Recall for Logistics Regression: \", recall)"
      ],
      "execution_count": 46,
      "outputs": [
        {
          "output_type": "stream",
          "text": [
            "[[157795   8181]\n",
            " [  4873  77749]]\n",
            "Accuracy for Logistics Regression:  0.9474895212350863\n",
            "Precision for Logistics Regression:  0.9507097411673977\n",
            "Recall for Logistics Regression:  0.9700432783337841\n"
          ],
          "name": "stdout"
        }
      ]
    },
    {
      "cell_type": "code",
      "metadata": {
        "id": "jjdmrNm8fAPK",
        "outputId": "7e8ff70d-6136-41d9-af9f-ca1ffd9bc8ac",
        "colab": {
          "base_uri": "https://localhost:8080/",
          "height": 170
        }
      },
      "source": [
        "print(classification_report(y_test, pred))"
      ],
      "execution_count": 47,
      "outputs": [
        {
          "output_type": "stream",
          "text": [
            "              precision    recall  f1-score   support\n",
            "\n",
            "           0       0.97      0.95      0.96    165976\n",
            "           1       0.90      0.94      0.92     82622\n",
            "\n",
            "    accuracy                           0.95    248598\n",
            "   macro avg       0.94      0.95      0.94    248598\n",
            "weighted avg       0.95      0.95      0.95    248598\n",
            "\n"
          ],
          "name": "stdout"
        }
      ]
    },
    {
      "cell_type": "markdown",
      "metadata": {
        "id": "3igftD3mz0AJ"
      },
      "source": [
        "## Support Vector Machine"
      ]
    },
    {
      "cell_type": "markdown",
      "metadata": {
        "id": "GthT4SHsf7HX"
      },
      "source": [
        "Test simple SVM and kernel SVMs."
      ]
    },
    {
      "cell_type": "code",
      "metadata": {
        "id": "ct6I0kJgz0wM",
        "outputId": "9d136cc0-5c4d-4f77-f124-8ae666ccda17",
        "colab": {
          "base_uri": "https://localhost:8080/",
          "height": 85
        }
      },
      "source": [
        "from sklearn.svm import SVC \n",
        "svclassifier = SVC(kernel='linear', verbose = 2)\n",
        "svclassifier.fit(X_train, y_train)"
      ],
      "execution_count": 22,
      "outputs": [
        {
          "output_type": "stream",
          "text": [
            "[LibSVM]"
          ],
          "name": "stdout"
        },
        {
          "output_type": "execute_result",
          "data": {
            "text/plain": [
              "SVC(C=1.0, break_ties=False, cache_size=200, class_weight=None, coef0=0.0,\n",
              "    decision_function_shape='ovr', degree=3, gamma='scale', kernel='linear',\n",
              "    max_iter=-1, probability=False, random_state=None, shrinking=True,\n",
              "    tol=0.001, verbose=2)"
            ]
          },
          "metadata": {
            "tags": []
          },
          "execution_count": 22
        }
      ]
    },
    {
      "cell_type": "code",
      "metadata": {
        "id": "-tEmuJ7r0toz",
        "outputId": "c8743d54-d188-41d1-c10d-6ed8ae4ba797",
        "colab": {
          "base_uri": "https://localhost:8080/",
          "height": 102
        }
      },
      "source": [
        "pred = svclassifier.predict(X_test)\n",
        "cm = confusion_matrix(y_test, pred)\n",
        "print(cm)\n",
        "print(\"Accuracy for SVM: \", accuracy_score(y_test, pred))\n",
        "precision = cm[0,0] / (cm[0,0] + cm[0,1])\n",
        "print(\"Precision for SVM: \", precision)\n",
        "recall = cm[0,0] / (cm[0,0] + cm[1,0])\n",
        "print(\"Recall for SVM: \", recall)"
      ],
      "execution_count": 23,
      "outputs": [
        {
          "output_type": "stream",
          "text": [
            "[[158568   7408]\n",
            " [  5311  77311]]\n",
            "Accuracy for SVM:  0.9488370783353044\n",
            "Precision for SVM:  0.9553670410179785\n",
            "Recall for SVM:  0.9675919428358728\n"
          ],
          "name": "stdout"
        }
      ]
    },
    {
      "cell_type": "markdown",
      "metadata": {
        "id": "J3FWkUxr09Gj"
      },
      "source": [
        "### Kernel SVM"
      ]
    },
    {
      "cell_type": "markdown",
      "metadata": {
        "id": "UTWlgmbc1L26"
      },
      "source": [
        "Let's test which kernel SVM works best in our case.\n",
        "\n",
        "1. Polynomial Kernel"
      ]
    },
    {
      "cell_type": "code",
      "metadata": {
        "id": "V5cUXxjg0-7x",
        "outputId": "89179b38-bb8f-4f71-96dc-9ac5ee02177c",
        "colab": {
          "base_uri": "https://localhost:8080/",
          "height": 85
        }
      },
      "source": [
        "svclassifier = SVC(kernel = 'poly', degree=8, verbose = 2)\n",
        "svclassifier.fit(X_train, y_train)"
      ],
      "execution_count": 24,
      "outputs": [
        {
          "output_type": "stream",
          "text": [
            "[LibSVM]"
          ],
          "name": "stdout"
        },
        {
          "output_type": "execute_result",
          "data": {
            "text/plain": [
              "SVC(C=1.0, break_ties=False, cache_size=200, class_weight=None, coef0=0.0,\n",
              "    decision_function_shape='ovr', degree=8, gamma='scale', kernel='poly',\n",
              "    max_iter=-1, probability=False, random_state=None, shrinking=True,\n",
              "    tol=0.001, verbose=2)"
            ]
          },
          "metadata": {
            "tags": []
          },
          "execution_count": 24
        }
      ]
    },
    {
      "cell_type": "code",
      "metadata": {
        "id": "_FaSF3_71SF-",
        "outputId": "abdeabe1-f1d5-4270-94ab-4c0f17563d07",
        "colab": {
          "base_uri": "https://localhost:8080/",
          "height": 102
        }
      },
      "source": [
        "pred = svclassifier.predict(X_test)\n",
        "cm = confusion_matrix(y_test, pred)\n",
        "print(cm)\n",
        "\n",
        "print(\"Accuracy for Polynomial Kernel SVM: \", accuracy_score(y_test, pred))\n",
        "precision = cm[0,0] / (cm[0,0] + cm[0,1])\n",
        "print(\"Precision for Polynomial Kernel SVM: \", precision)\n",
        "recall = cm[0,0] / (cm[0,0] + cm[1,0])\n",
        "print(\"Recall for Polynomial Kernel SVM: \", recall)"
      ],
      "execution_count": 25,
      "outputs": [
        {
          "output_type": "stream",
          "text": [
            "[[164273   1703]\n",
            " [ 11787  70835]]\n",
            "Accuracy for Polynomial Kernel SVM:  0.9457356857255489\n",
            "Precision for Polynomial Kernel SVM:  0.9897394804068058\n",
            "Recall for Polynomial Kernel SVM:  0.9330512325343633\n"
          ],
          "name": "stdout"
        }
      ]
    },
    {
      "cell_type": "markdown",
      "metadata": {
        "id": "UjcgOAdk1aBB"
      },
      "source": [
        "2. Gaussian Kernel"
      ]
    },
    {
      "cell_type": "code",
      "metadata": {
        "id": "gQO6Atit1YBA",
        "outputId": "d77a045a-7479-49b8-b007-100b6cf0991a",
        "colab": {
          "base_uri": "https://localhost:8080/",
          "height": 85
        }
      },
      "source": [
        "svclassifier = SVC(kernel='rbf', verbose = 2)\n",
        "svclassifier.fit(X_train, y_train)"
      ],
      "execution_count": 26,
      "outputs": [
        {
          "output_type": "stream",
          "text": [
            "[LibSVM]"
          ],
          "name": "stdout"
        },
        {
          "output_type": "execute_result",
          "data": {
            "text/plain": [
              "SVC(C=1.0, break_ties=False, cache_size=200, class_weight=None, coef0=0.0,\n",
              "    decision_function_shape='ovr', degree=3, gamma='scale', kernel='rbf',\n",
              "    max_iter=-1, probability=False, random_state=None, shrinking=True,\n",
              "    tol=0.001, verbose=2)"
            ]
          },
          "metadata": {
            "tags": []
          },
          "execution_count": 26
        }
      ]
    },
    {
      "cell_type": "code",
      "metadata": {
        "id": "LIfC1SnR1dWu",
        "outputId": "7747f186-a7ff-4888-a4ee-be8248f5871f",
        "colab": {
          "base_uri": "https://localhost:8080/",
          "height": 102
        }
      },
      "source": [
        "pred = svclassifier.predict(X_test)\n",
        "cm = confusion_matrix(y_test, pred)\n",
        "print(cm)\n",
        "print(\"Accuracy for Gaussian Kernel SVM: \", accuracy_score(y_test, pred))\n",
        "precision = cm[0,0] / (cm[0,0] + cm[0,1])\n",
        "print(\"Precision for Gaussian Kernel SVM: \", precision)\n",
        "recall = cm[0,0] / (cm[0,0] + cm[1,0])\n",
        "print(\"Recall for Gaussian Kernel SVM: \", recall)"
      ],
      "execution_count": 27,
      "outputs": [
        {
          "output_type": "stream",
          "text": [
            "[[163406   2570]\n",
            " [   233  82389]]\n",
            "Accuracy for Gaussian Kernel SVM:  0.9887247685017578\n",
            "Precision for Gaussian Kernel SVM:  0.9845158336144985\n",
            "Recall for Gaussian Kernel SVM:  0.9985761340511736\n"
          ],
          "name": "stdout"
        }
      ]
    },
    {
      "cell_type": "markdown",
      "metadata": {
        "id": "SPulOq0E1ghb"
      },
      "source": [
        "3. Sigmoid Kernel\n"
      ]
    },
    {
      "cell_type": "code",
      "metadata": {
        "id": "LvumOZzo1iac",
        "outputId": "88119556-745c-4ea5-87bf-558ecb65b9ea",
        "colab": {
          "base_uri": "https://localhost:8080/",
          "height": 85
        }
      },
      "source": [
        "svclassifier = SVC(kernel='sigmoid', verbose = 2)\n",
        "svclassifier.fit(X_train, y_train)"
      ],
      "execution_count": 29,
      "outputs": [
        {
          "output_type": "stream",
          "text": [
            "[LibSVM]"
          ],
          "name": "stdout"
        },
        {
          "output_type": "execute_result",
          "data": {
            "text/plain": [
              "SVC(C=1.0, break_ties=False, cache_size=200, class_weight=None, coef0=0.0,\n",
              "    decision_function_shape='ovr', degree=3, gamma='scale', kernel='sigmoid',\n",
              "    max_iter=-1, probability=False, random_state=None, shrinking=True,\n",
              "    tol=0.001, verbose=2)"
            ]
          },
          "metadata": {
            "tags": []
          },
          "execution_count": 29
        }
      ]
    },
    {
      "cell_type": "code",
      "metadata": {
        "id": "Ggu0SpCc14xb",
        "outputId": "d6145da5-375c-41eb-d316-9bb4ad3666c2",
        "colab": {
          "base_uri": "https://localhost:8080/",
          "height": 102
        }
      },
      "source": [
        "pred = svclassifier.predict(X_test)\n",
        "cm = confusion_matrix(y_test, pred)\n",
        "print(cm)\n",
        "print(\"Accuracy for Sigmoid Kernel SVM: \", accuracy_score(y_test, pred))\n",
        "precision = cm[0,0] / (cm[0,0] + cm[0,1])\n",
        "print(\"Precision for Sigmoid Kernel SVM: \", precision)\n",
        "recall = cm[0,0] / (cm[0,0] + cm[1,0])\n",
        "print(\"Recall for Sigmoid Kernel SVM: \", recall)"
      ],
      "execution_count": 30,
      "outputs": [
        {
          "output_type": "stream",
          "text": [
            "[[114888  51088]\n",
            " [ 50175  32447]]\n",
            "Accuracy for Sigmoid Kernel SVM:  0.5926636577929026\n",
            "Precision for Sigmoid Kernel SVM:  0.6921964621391045\n",
            "Recall for Sigmoid Kernel SVM:  0.6960251540320969\n"
          ],
          "name": "stdout"
        }
      ]
    },
    {
      "cell_type": "markdown",
      "metadata": {
        "id": "s1co6qFldZSc"
      },
      "source": [
        "The Gaussian Kernel SVM has the best accuracy rate among all the SVMs\n",
        "\n"
      ]
    },
    {
      "cell_type": "markdown",
      "metadata": {
        "id": "ljZv5veodi4e"
      },
      "source": [
        "# Accuracy rate and recall summary\n",
        "\n",
        "Random Forest:<br>\n",
        "  Accuracy for Random Forest:  **0.997554**<br>\n",
        "  Recall for Random Forest:  **0.999148**<br>\n",
        "\n",
        "kNN:<br>\n",
        "  Accuracy for kNN:  0.9952091<br>\n",
        "  Recall for kNN:  0.998547<br>\n",
        "\n",
        "Logistics Regression:<br>\n",
        "  Accuracy for Logistics Regression:  0.947489<br>\n",
        "  Recall for Logistics Regression:  0.970043<br>\n",
        "\n",
        "SVM:<br>\n",
        "  Accuracy for Gaussian Kernel SVM:  0.988724<br>\n",
        "  Recall for Gaussian Kernel SVM:  0.998576<br>\n"
      ]
    },
    {
      "cell_type": "markdown",
      "metadata": {
        "id": "Ym982cVWemmZ"
      },
      "source": [
        "## Conclusion\n",
        "\n",
        "1.   Random forest has the best accuracy rate and recall score.\n",
        "\n",
        "2.   The time it takes to train the RF model is reasonable.\n",
        "\n",
        "3. LSTM is also worth trying in the future if we can overcome the long training time and expensive cost using this method.\n"
      ]
    }
  ]
}